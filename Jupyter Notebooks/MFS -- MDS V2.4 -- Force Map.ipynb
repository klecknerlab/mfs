{
 "cells": [
  {
   "cell_type": "markdown",
   "metadata": {},
   "source": [
    "# Acoustic Binding force maps\n",
    "\n",
    "### A Sound scattering model based on the method of fundamental solutions\n",
    "\n",
    "\n",
    "#### Contributors:\n",
    "*Arnold Kim, Applied Mathematics, University of California, Merced*\n",
    "\n",
    "*Dustin Kleckner, Physics, University of California, Merced*\n",
    "\n",
    "*Nicholas St. Clair, Physics (Kleckner Lab), University of California, Merced*\n",
    "\n",
    "#### Description:\n",
    "The following notebook makes use of the method of fundamental solutions to compute the sound scattered from multiple sound hard spherical bodies. It determines the forces resultant from said scattering events, some of which are non-linear interactions brought about by interference of acoustic fields. In this specific notebook the data is used to compute the forces between two particles. The location of the second particle is varied, and the force and location data is stored and then plotted as a heat map. This allows one to gauge the structure of the acoustic binding force between two sound hard spherical scatterers at various size parameters."
   ]
  },
  {
   "cell_type": "code",
   "execution_count": 3,
   "metadata": {},
   "outputs": [
    {
     "name": "stdout",
     "output_type": "stream",
     "text": [
      "MFS class downloaded at: c:\\users\\nstcl\\documents\\github\\mfs\\mfs\\__init__.py\n"
     ]
    }
   ],
   "source": [
    "#Import the relevant python libraries, as well as the MFS master class.\n",
    "\n",
    "import numpy as np\n",
    "import scipy.special as sp\n",
    "import time\n",
    "import matplotlib.pyplot as plt\n",
    "import mfs as MFS\n",
    "print('MFS class downloaded at:', MFS.__file__)\n",
    "import pandas as pd"
   ]
  },
  {
   "cell_type": "markdown",
   "metadata": {},
   "source": [
    "## 1. Creating Force Map Data\n",
    "\n",
    "The following cell sets the relative locations between two acoustically interacting spheres. One of the spheres is held fixed on a pressue node, while the location of the second sphere is varied in the x-z plane. We compute the force on the fixed sphere, and save the x and z components of this force to various arrays, along with the position data. "
   ]
  },
  {
   "cell_type": "code",
   "execution_count": null,
   "metadata": {},
   "outputs": [],
   "source": [
    "#MFS number\n",
    "N = 492\n",
    "#quadrature number\n",
    "Nq = 8\n",
    "#wavenumber (1/m)\n",
    "k = 733\n",
    "#size parameter\n",
    "ka = 1\n",
    "#particle radius\n",
    "a = ka / k\n",
    "#Amplitude of incident field\n",
    "phi_a = 1e-5\n",
    "#mass density of air\n",
    "rho = 1.225\n",
    "#z level of group (m), corresponds to a pressure node\n",
    "zl = np.pi / (4*k)\n",
    "#position of first particle\n",
    "pos1 = [0,0,zl]\n",
    "#position of second particle\n",
    "Nx = 100\n",
    "Nz = 100\n",
    "x = np.linspace(0.01*a,30/k,Nx)\n",
    "z = np.linspace(0.01*a,30/k,Nz)\n",
    "#Initialize empty force data arrays\n",
    "F_x = np.full((Nx,Nz), 'nan', dtype = 'float')\n",
    "F_z = np.full((Nx,Nz), 'nan', dtype = 'float')\n",
    "#Initiate an instance from the master class\n",
    "scat = MFS.Scatter(k=k, a=a, N=N, Nq=Nq, phi_a = phi_a, lattice_type='icos', rho=rho, source_depth=0.5)\n",
    "#Call the incoming wave method from the MFS instance, set counterpropogating waves in z\n",
    "scat.incoming_planewaves([1, 1j], [(0, 0, 1), (0, 0, -1)])\n",
    "\n",
    "for i in range(Nx):\n",
    "    \n",
    "    for j in range(Nz):\n",
    "        \n",
    "        #set the position of the second particle\n",
    "        pos2 = [x[i] , 0 , zl + z[j]]\n",
    "        \n",
    "        XD = np.array([pos1,pos2])\n",
    "        \n",
    "        #omit regions of space where the two particles overlap\n",
    "        if np.sqrt(x[i]**2 + z[j]**2) < 2*a:\n",
    "            F_x[j,i] = 0\n",
    "            F_z[j,i] = 0\n",
    "        \n",
    "        else:\n",
    "            \n",
    "            #call the solve method from the master class\n",
    "            scat.solve(XD)\n",
    "        \n",
    "            #save the x and z components of the force on the 1st particle\n",
    "            #since this particle is always located at a pressure node,\n",
    "            #we don't have to worry about any single particle effects, i.e. trapping force\n",
    "            F_x[j,i], F_z[j,i] = scat.force()[0,0],scat.force()[0,2]\n",
    "            \n"
   ]
  },
  {
   "cell_type": "markdown",
   "metadata": {},
   "source": [
    "## 2 Reformatting Data\n",
    "\n",
    "The following cell simply takes the x and z components of the force data, and computes the radial force on the fixed sphere."
   ]
  },
  {
   "cell_type": "code",
   "execution_count": null,
   "metadata": {},
   "outputs": [],
   "source": [
    "#The last four lines in this cell save the radial force map data, and accompanying location data, as csv files.\n",
    "#These lines can be uncommented as needed.\n",
    "\n",
    "#Compute the reference acoustic force given the incident field strength and the size of the particle\n",
    "F_0 = np.pi * rho * phi_a**2 * k**2 * a**2\n",
    "θ = np.arctan(z/x)\n",
    "\n",
    "#Scale the radial force to the reference force\n",
    "F_r = (F_x * np.cos(θ) + F_z * np.sin(θ)) / F_0\n",
    "\n",
    "#df1 = pd.DataFrame(F_r)\n",
    "#df1.to_csv('Radial_Force_ka=1.csv', header = False, index = False)\n",
    "#dfx1 = pd.DataFrame(x)\n",
    "#dfx1.to_csv('xs.csv')"
   ]
  },
  {
   "cell_type": "markdown",
   "metadata": {},
   "source": [
    "## 3 Visualizing Forces\n",
    "\n",
    "The following cell plots the radial force between the two spheres as a heatmap, it also shows the overlapping region of the two sphere at the origin of the plot (i.e. where the fixed sphere is located)."
   ]
  },
  {
   "cell_type": "code",
   "execution_count": null,
   "metadata": {},
   "outputs": [],
   "source": [
    "plt.contourf(x,(z+zl), F_r,  cmap = 'RdBu')\n",
    "plt.gca().add_artist(plt.Circle((0,zl),2*a, color='w', ec='k'))\n",
    "plt.gca().add_artist(plt.Circle((0,zl),a, color='k'))\n",
    "plt.colorbar()\n",
    "plt.gca().set_aspect(1)\n",
    "plt.xlabel('x (m)')\n",
    "plt.ylabel('z (m)')\n",
    "plt.title(f'ka = {ka}')\n",
    "plt.show()"
   ]
  },
  {
   "cell_type": "markdown",
   "metadata": {},
   "source": [
    "## 4 Repeat\n",
    "\n",
    "All the following cells repeat the same scheme outlined above, but for different size parameters (ka)."
   ]
  },
  {
   "cell_type": "code",
   "execution_count": null,
   "metadata": {},
   "outputs": [],
   "source": [
    "#MFS number\n",
    "N = 492\n",
    "#quadrature number\n",
    "Nq = 8\n",
    "#wavenumber (1/m)\n",
    "k = 733\n",
    "#size parameter\n",
    "ka2 = 2\n",
    "#particle radius\n",
    "a2 = ka2 / k\n",
    "#Amplitude of incident field\n",
    "phi_a = 1e-5\n",
    "#mass density of air\n",
    "rho = 1.225\n",
    "#z level of group (m)\n",
    "zl = np.pi / (4*k)\n",
    "#position of first particle\n",
    "pos1 = [0,0,zl]\n",
    "#position of second particle\n",
    "Nx = 100\n",
    "Nz = 100\n",
    "x2 = np.linspace(0.01*a2,30/k,Nx)\n",
    "z2 = np.linspace(0.01*a2,30/k,Nz)\n",
    "#Initialize empty force data arrays\n",
    "F_x2 = np.full((Nx,Nz), 'nan', dtype = 'float')\n",
    "F_z2 = np.full((Nx,Nz), 'nan', dtype = 'float')\n",
    "#call MFS scatter class with relevant parameters\n",
    "scat = MFS.Scatter(k=k, a=a2, N=N, Nq=Nq, phi_a = phi_a, lattice_type='icos', rho=rho, source_depth=0.5)\n",
    "scat.incoming_planewaves([1, 1j], [(0, 0, 1), (0, 0, -1)])\n",
    "\n",
    "for i in range(Nx):\n",
    "    \n",
    "    for j in range(Nz):\n",
    "        \n",
    "        pos2 = [x2[i] , 0 , zl + z2[j]]\n",
    "        \n",
    "        XD = np.array([pos1,pos2])\n",
    "        \n",
    "        if np.sqrt(x2[i]**2 + z2[j]**2) < 2*a2:\n",
    "            F_x[j,i] = 0\n",
    "            F_z[j,i] = 0\n",
    "        \n",
    "        else:\n",
    "        \n",
    "            scat.solve(XD)\n",
    "        \n",
    "            F_x2[j,i], F_z2[j,i] = scat.force()[0,0],scat.force()[0,2]"
   ]
  },
  {
   "cell_type": "code",
   "execution_count": null,
   "metadata": {},
   "outputs": [],
   "source": [
    "F_02 = np.pi * rho * phi_a**2 * k**2 * a2**2\n",
    "θ2 = np.arctan(z2/x2)\n",
    "F_r2 = (F_x2 * np.cos(θ2) + F_z2 * np.sin(θ2)) / F_02\n",
    "\n",
    "df2 = pd.DataFrame(F_r2)\n",
    "df2.to_csv(f'Radial_Force_ka={ka2}.csv', header = False, index = False)\n",
    "dfx2 = pd.DataFrame(x2)\n",
    "dfx2.to_csv('x2s.csv')"
   ]
  },
  {
   "cell_type": "code",
   "execution_count": null,
   "metadata": {},
   "outputs": [],
   "source": [
    "plt.contourf(x2,(z2+zl), F_r2,  cmap = 'RdBu')\n",
    "plt.gca().add_artist(plt.Circle((0,zl),2*a2, color='w', ec='k'))\n",
    "plt.gca().add_artist(plt.Circle((0,zl),a2, color='k'))\n",
    "plt.colorbar()\n",
    "plt.gca().set_aspect(1)\n",
    "plt.xlabel('x (m)')\n",
    "plt.ylabel('z (m)')\n",
    "plt.title(f'ka = {ka2}')\n",
    "plt.show()"
   ]
  },
  {
   "cell_type": "code",
   "execution_count": null,
   "metadata": {},
   "outputs": [],
   "source": [
    "#MFS number\n",
    "N = 492\n",
    "#quadrature number\n",
    "Nq = 8\n",
    "#wavenumber (1/m)\n",
    "k = 733\n",
    "#size parameter\n",
    "ka4 = 4\n",
    "#particle radius\n",
    "a4 = ka / k\n",
    "#Amplitude of incident field\n",
    "phi_a = 1e-5\n",
    "#mass density of air\n",
    "rho = 1.225\n",
    "#z level of group (m)\n",
    "zl = np.pi / (4*k)\n",
    "#position of first particle\n",
    "pos1 = [0,0,zl]\n",
    "#position of second particle\n",
    "Nx = 100\n",
    "Nz = 100\n",
    "x4 = np.linspace(0.01*a4,30/k,Nx)\n",
    "z4 = np.linspace(0.01*a4,30/k,Nz)\n",
    "#Initialize empty force data arrays\n",
    "F_x4 = np.full((Nx,Nz), 'nan', dtype = 'float')\n",
    "F_z4 = np.full((Nx,Nz), 'nan', dtype = 'float')\n",
    "#call MFS scatter class with relevant parameters\n",
    "scat = MFS.Scatter(k=k, a=a4, N=N, Nq=Nq, phi_a = phi_a, lattice_type='icos', rho=rho, source_depth=0.5)\n",
    "scat.incoming_planewaves([1, 1j], [(0, 0, 1), (0, 0, -1)])\n",
    "\n",
    "for i in range(Nx):\n",
    "    \n",
    "    for j in range(Nz):\n",
    "        \n",
    "        pos2 = [x4[i] , 0 , zl + z4[j]]\n",
    "        \n",
    "        XD = np.array([pos1,pos2])\n",
    "        \n",
    "        if np.sqrt(x4[i]**2 + z4[j]**2) < 2*a4:\n",
    "            F_x[j,i] = 0\n",
    "            F_z[j,i] = 0\n",
    "        \n",
    "        else:\n",
    "        \n",
    "            scat.solve(XD)\n",
    "        \n",
    "            F_x4[j,i], F_z4[j,i] = scat.force()[0,0],scat.force()[0,2]"
   ]
  },
  {
   "cell_type": "code",
   "execution_count": null,
   "metadata": {},
   "outputs": [],
   "source": [
    "F_04 = np.pi * rho * phi_a**2 * k**2 * a4**2\n",
    "θ4 = np.arctan(z4/x4)\n",
    "F_r4 = (F_x4 * np.cos(θ4) + F_z4 * np.sin(θ4)) / F_04\n",
    "df4 = pd.DataFrame(F_r4)\n",
    "df4.to_csv(f'Radial_Force_ka={ka4}.csv', header = False, index = False)\n",
    "dfx4 = pd.DataFrame(x4)\n",
    "dfx4.to_csv('x4s.csv')"
   ]
  },
  {
   "cell_type": "code",
   "execution_count": null,
   "metadata": {},
   "outputs": [],
   "source": [
    "plt.contourf(x4,(z4+zl), F_r4,  cmap = 'RdBu')\n",
    "plt.gca().add_artist(plt.Circle((0,zl),2*a4, color='w', ec='k'))\n",
    "plt.gca().add_artist(plt.Circle((0,zl),a4, color='k'))\n",
    "plt.colorbar()\n",
    "plt.gca().set_aspect(1)\n",
    "plt.xlabel('x (m)')\n",
    "plt.ylabel('z (m)')\n",
    "plt.title(f'ka = {ka4}')\n",
    "plt.show()"
   ]
  },
  {
   "cell_type": "code",
   "execution_count": null,
   "metadata": {},
   "outputs": [],
   "source": []
  }
 ],
 "metadata": {
  "kernelspec": {
   "display_name": "Python 3",
   "language": "python",
   "name": "python3"
  }
 },
 "nbformat": 4,
 "nbformat_minor": 4
}
