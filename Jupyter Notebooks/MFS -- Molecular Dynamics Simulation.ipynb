{
 "cells": [
  {
   "cell_type": "markdown",
   "metadata": {},
   "source": [
    "# MFS based MD Simulation\n",
    "\n",
    "### A Sound scattering simulator based on the method of fundamental solutions\n",
    "\n",
    "#### Author:\n",
    "\n",
    "*Nicholas St. Clair, Physics (Kleckner Lab), University of California, Merced*\n",
    "\n",
    "#### Contributors:\n",
    "*Arnold Kim, Applied Mathematics, University of California, Merced*\n",
    "\n",
    "*Dustin Kleckner, Physics, University of California, Merced*\n",
    "\n",
    "#### Description:\n",
    "The following notebook makes use of the method of fundamental solutions to compute the sound scattered from multiple sound hard scattering bodies. It determines the forces resultant from said scattering events, some of which are non-linear interactions brought about by interference of acoustic fields. The force data from the MFS scattering code is then fed into a Runge-Kutta based step integrator to produce a molecular dynamics type simulator."
   ]
  },
  {
   "cell_type": "code",
   "execution_count": 1,
   "metadata": {},
   "outputs": [
    {
     "name": "stdout",
     "output_type": "stream",
     "text": [
      "MFS class downloaded at: c:\\users\\nstcl\\documents\\github\\mfs\\mfs\\__init__.py\n"
     ]
    }
   ],
   "source": [
    "#Import relevant python libraries\n",
    "import numpy as np\n",
    "from scipy.integrate import solve_ivp\n",
    "import time\n",
    "import matplotlib.pyplot as plt\n",
    "#Import MFS master class and state it's location\n",
    "import mfs as MFS\n",
    "print('MFS class downloaded at:', MFS.__file__)"
   ]
  },
  {
   "cell_type": "markdown",
   "metadata": {},
   "source": [
    "## 1. Base differential equation\n",
    "\n",
    "The following cell defines a function which takes a 1 X (6*Np) array containing current position and velocity info and returns an array of the same shape with info updated according to the current velocity and force data. It also takes particle number and radius as function parameters.\n",
    "\n",
    "*Unfortunately the integrator only accepts 1D arrays...*"
   ]
  },
  {
   "cell_type": "code",
   "execution_count": 2,
   "metadata": {},
   "outputs": [],
   "source": [
    "def Binding(t, M, Np, a, N, m, μ, scat):\n",
    "    #initialize arrays\n",
    "    Out = np.empty_like(M)\n",
    "    X = np.empty((Np,3))\n",
    "    #update output array position data\n",
    "    for n in range(Np):\n",
    "        X[n] = [M[n*6],M[n*6 + 1], M[n*6 + 2]]\n",
    "        Out[n*6] = M[n*6 + 3]\n",
    "        Out[n*6 + 1] = M[n*6 + 4]\n",
    "        Out[n*6 + 2] = M[n*6 + 5]\n",
    "    #feed the class the current position data and use to compute forces\n",
    "    scat.solve(X)\n",
    "    Ft = scat.force() + scat.contact()\n",
    "    F = Ft.flatten()\n",
    "    #update output array velocity data\n",
    "    #the second terms involved in the force calculation are stokes drag forces\n",
    "    for n in range(Np):\n",
    "        Out[n*6 + 3] = (F[n*3] - (6*np.pi*μ*a*M[n*6 + 3])) / m\n",
    "        Out[n*6 + 4] = (F[n*3 + 1] - (6*np.pi*μ*a*M[n*6 + 4])) / m\n",
    "        Out[n*6 + 5] = (F[n*3 + 2] - (6*np.pi*μ*a*M[n*6 + 5])) / m\n",
    "    return Out.flatten();"
   ]
  },
  {
   "cell_type": "markdown",
   "metadata": {},
   "source": [
    "## 2. Runge-Kutta based solver\n",
    "\n",
    "The following cell defines initial conditions, as well as any global parameters necessary to set up the simulation.\n",
    "It then feeds the initial conditions to the solver to be run for a predetermined amount of time."
   ]
  },
  {
   "cell_type": "code",
   "execution_count": null,
   "metadata": {},
   "outputs": [],
   "source": [
    "#time range of simulation\n",
    "t_0 = 0\n",
    "t_f = 10.0\n",
    "\n",
    "#relevant simulation parameters\n",
    "#MFS number (number of points in the source lattice)\n",
    "N = 252\n",
    "#quadrature number (number of points in evaluations lattice is 2*Nq^2)\n",
    "Nq = 8\n",
    "#wavenumber (1/m)\n",
    "k = 733\n",
    "#size parameter\n",
    "ka = 0.1\n",
    "#particle radius\n",
    "a = ka / k\n",
    "# particle mass density (this may be a low estimate?)\n",
    "ρp = 11\n",
    "#particle mass\n",
    "m = ((4 * np.pi / 3) * a ** 3) * ρp\n",
    "#dynamic viscosity of air\n",
    "μ = 1.81e-5\n",
    "#fluid density\n",
    "rho = 1.225\n",
    "#Incident field amplitude\n",
    "phi_a = 1e-5\n",
    "#Reference acoustic force\n",
    "F_0 = np.pi * rho * phi_a**2 * k**2 * a**2\n",
    "#z level of group (m)\n",
    "zl = 3*np.pi / (4*k)\n",
    "#initial particle spacing in lattice\n",
    "spi = 5*a\n",
    "\n",
    "#number of rows (this creates an nr X nr grid of particles)\n",
    "nr = 3\n",
    "#Initial Particle Positions (currently set to a 2d square lattice with small random perturbations)\n",
    "if nr == 1:\n",
    "    #number of particles\n",
    "    Np = 2\n",
    "    pos = np.array([(0,0,zl),(spi,0,zl)])\n",
    "elif nr > 1:\n",
    "    Np = nr ** 2\n",
    "\n",
    "    shape = np.empty((nr,nr,3))\n",
    "    base = (0, 0, zl)\n",
    "    basen = np.full_like(shape, base)\n",
    "    for i in range(nr):\n",
    "        basen[:,i,0] += i*spi\n",
    "        basen[i,:,1] += i*spi\n",
    "    pos = basen.reshape(Np,3)\n",
    "pos[:,0] += 0.25 * a * (np.random.rand(Np) - 0.5)\n",
    "pos[:,1] += 0.25 * a * (np.random.rand(Np) - 0.5)\n",
    "#Set initial particle Velocities\n",
    "vel = np.zeros((Np,3))\n",
    "#Set initial condition array (accepted by the integrator)\n",
    "ICs = np.empty((Np,6))\n",
    "ICs[:, :3] = pos\n",
    "ICs[:, 3:] = vel\n",
    "\n",
    "#call MFS scatter class with relevant parameters\n",
    "scat = MFS.Scatter(k=k, a=a, N=N, Nq=Nq, phi_a=phi_a, lattice_type='icos', rho=1.225, source_depth=0.5)\n",
    "#initiate incident counterpropogating fields in z\n",
    "scat.incoming_planewaves([1, 1j], [(0, 0, 1), (0, 0, -1)])\n",
    "#run the simulation\n",
    "ti = time.time()\n",
    "nsol = solve_ivp(lambda t,M: Binding(t, M, Np, a, N, m, μ, scat), [t_0,t_f], ICs.flatten(), max_step = 1.0)\n",
    "tf = time.time()"
   ]
  },
  {
   "cell_type": "markdown",
   "metadata": {},
   "source": [
    "## 3. Particle Trajectories\n",
    "\n",
    "The following cell plots the initial and final positions of the acoustically interacting particles, as well as the trajectories taken in between these locations."
   ]
  },
  {
   "cell_type": "code",
   "execution_count": null,
   "metadata": {},
   "outputs": [],
   "source": [
    "fig,ax = plt.subplots()\n",
    "for i in range(Np):\n",
    "    plt.plot(nsol.y[6*i],nsol.y[(6*i)+1],'-.')\n",
    "    c1 = plt.Circle((nsol.y[6*i,0],nsol.y[(6*i)+1,0]), a, color = 'blue', alpha = 0.5)\n",
    "    c2 = plt.Circle((nsol.y[6*i,-1],nsol.y[(6*i)+1,-1]), a, color = 'white', ec = 'k')\n",
    "    ax.add_artist(c1)\n",
    "    ax.add_artist(c2)\n",
    "\n",
    "x_bounds = ax.get_xlim()\n",
    "y_bounds = ax.get_ylim()\n",
    "ax.set_xlim(x_bounds[0] - a, x_bounds[1] + a)\n",
    "ax.set_ylim(y_bounds[0] - a, y_bounds[1] + a)\n",
    "plt.gca().set_aspect(1)\n",
    "plt.xlabel('x')\n",
    "plt.ylabel('y')\n",
    "plt.title(f'ka = {ka}')\n",
    "plt.tight_layout()\n",
    "plt.show()"
   ]
  },
  {
   "cell_type": "markdown",
   "metadata": {},
   "source": [
    "## 4. Particle Velocities\n",
    "\n",
    "The following cell plots the mean particle velocity as a function of time."
   ]
  },
  {
   "cell_type": "code",
   "execution_count": null,
   "metadata": {},
   "outputs": [],
   "source": [
    "plt.plot(nsol.t, (np.sqrt(nsol.y[3]**2 + nsol.y[4]**2) + np.sqrt(nsol.y[9]**2 + nsol.y[10]**2) \\\n",
    "        + np.sqrt(nsol.y[15]**2 + nsol.y[16]**2) + np.sqrt(nsol.y[21]**2 + nsol.y[22]**2) \\\n",
    "        + np.sqrt(nsol.y[27]**2 + nsol.y[28]**2) + np.sqrt(nsol.y[33]**2 + nsol.y[34]**2) \\\n",
    "        +np.sqrt(nsol.y[39]**2 + nsol.y[40]**2) + np.sqrt(nsol.y[45]**2 + nsol.y[46]**2)\\\n",
    "        + np.sqrt(nsol.y[51]**2 + nsol.y[52]**2))/Np)\n",
    "plt.grid()\n",
    "plt.title('Mean Particle Velocity')\n",
    "plt.xlabel('Time (s)')\n",
    "plt.ylabel('V (m/s)')\n",
    "plt.show()"
   ]
  },
  {
   "cell_type": "markdown",
   "metadata": {},
   "source": [
    "## 5. Configuration Energy\n",
    "\n",
    "The following cell determines the acoustic potential energy associated with the configuration at each time step of the simulation. The energy data is then plotted vs time."
   ]
  },
  {
   "cell_type": "code",
   "execution_count": null,
   "metadata": {},
   "outputs": [],
   "source": [
    "#Initiate empty arrays to store energy and position data\n",
    "E_t = np.empty(len(nsol.t))\n",
    "X = np.empty((Np,3))\n",
    "\n",
    "for i in range(len(nsol.t)):\n",
    "    \n",
    "    #take position data from simulation output\n",
    "    for n in range(Np):\n",
    "        \n",
    "        X[n] = (nsol.y[n*6,i],nsol.y[n*6 + 1, i],nsol.y[n*6 + 2,i])\n",
    "        \n",
    "    #solve for acoustic potential according to particle locations at timestep i\n",
    "    scat.solve(X)\n",
    "    E_N = scat.energy()\n",
    "    \n",
    "    #sum the energy over all of the particles in the simulation\n",
    "    E_t[i] = E_N.sum()"
   ]
  },
  {
   "cell_type": "code",
   "execution_count": null,
   "metadata": {},
   "outputs": [],
   "source": [
    "t_space = np.linspace(0,len(nsol.t),len(nsol.t))\n",
    "plt.plot(nsol.t, E_t)\n",
    "plt.grid()\n",
    "plt.title('Acoustic Potential vs time')\n",
    "plt.xlabel('t (s)')\n",
    "plt.ylabel('E (AU)')\n",
    "plt.show()"
   ]
  },
  {
   "cell_type": "markdown",
   "metadata": {},
   "source": [
    "## 6. Field visualization\n",
    "\n",
    "The following cell plots a heatmap of the second order pressure field of the configuration at the final time step of the simulation."
   ]
  },
  {
   "cell_type": "code",
   "execution_count": null,
   "metadata": {},
   "outputs": [],
   "source": [
    "if __name__ == \"__main__\":\n",
    "    #set relevant parameters for field visualization\n",
    "    #mass density of air\n",
    "    ρ = 1.225\n",
    "    #sound speed in air\n",
    "    c = 343\n",
    "    #angular frequency of incident sound field\n",
    "    ω = k * c\n",
    "    #compressibility factor of incident sound field\n",
    "    κ = 1 / (ρ * c**2)\n",
    "    \n",
    "    #call the scatter class\n",
    "    scat = MFS.Scatter(N=492, k=k, a=a, phi_a = phi_a, rho=ρ, source_depth=0.5)\n",
    "    #initiate counterpropagating plane waves in z\n",
    "    scat.incoming_planewaves([1, 1j], [(0, 0, 1), (0, 0, -1)])\n",
    "    \n",
    "    #take final configuration data as particle positions\n",
    "    pos = np.empty((Np,3))\n",
    "    \n",
    "    for i in range(Np):\n",
    "        pos[i] = nsol.y[i*6:(i*6)+3,-1]\n",
    "    \n",
    "    #create a meshgrid over which to plot the second order pressure field\n",
    "    xpoints = np.linspace(np.amin(pos[:,0])-2*a,np.amax(pos[:,0])+2*a,Ne)\n",
    "    ypoints = np.linspace(np.amin(pos[:,1])-2*a,np.amax(pos[:,1])+2*a,Ne)\n",
    "    Ne = 100\n",
    "    X = np.zeros((Ne,Ne,3))\n",
    "    \n",
    "    X[:,:,0] += xpoints.reshape(1,-1)\n",
    "    X[:,:,1] += ypoints.reshape(-1,1)\n",
    "    \n",
    "    #solve for the velocity and velocity potential fields according to particle locations\n",
    "    scat.solve(pos)\n",
    "    phi, v = scat.fields(X)\n",
    "    \n",
    "    #compute the second order pressure field from velocity and velocity potential\n",
    "    field = 0.25 * ρ * (k**2 * np.abs(phi)**2 - dot(v, v.conjugate()).real)\n",
    "    #determine the extent of the window over which to visualize the relevant field\n",
    "    extent = [np.amin(pos[:,0])-2*a,np.amax(pos[:,0])+2*a,np.amin(pos[:,1])-2*a,np.amax(pos[:,1])+2*a]\n",
    "    \n",
    "    #plot the relevant field\n",
    "    plt.imshow(field, origin='lower',clim = (-np.amax(np.abs(field))/20000,np.amax(np.abs(field))/20000), extent = extent, cmap='RdBu')\n",
    "    plt.colorbar()\n",
    "    \n",
    "    #plot particle locations for clarity\n",
    "    for X in scat.X:\n",
    "        plt.gca().add_artist(plt.Circle((X[0], X[1]), scat.a, color='w', ec='k'))\n",
    "\n",
    "    plt.show()"
   ]
  }
 ],
 "metadata": {
  "kernelspec": {
   "display_name": "Python 3",
   "language": "python",
   "name": "python3"
  },
  "language_info": {
   "codemirror_mode": {
    "name": "ipython",
    "version": 3
   },
   "file_extension": ".py",
   "mimetype": "text/x-python",
   "name": "python",
   "nbconvert_exporter": "python",
   "pygments_lexer": "ipython3",
   "version": "3.7.6"
  }
 },
 "nbformat": 4,
 "nbformat_minor": 4
}
